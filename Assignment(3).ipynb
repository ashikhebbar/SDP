{
 "cells": [
  {
   "cell_type": "code",
   "execution_count": 1,
   "metadata": {},
   "outputs": [],
   "source": [
    "import re\n",
    "\n",
    "text = '''\n",
    "Born    Elon Reeve Musk\n",
    "June 28, 1971 (age 50)\n",
    "Pretoria, Transvaal, South Africa\n",
    "Citizenship \n",
    "South Africa (1971–present)\n",
    "Canada (1971–present)\n",
    "United States (2002–present)\n",
    "Education   University of Pennsylvania (BS, BA)\n",
    "Title   \n",
    "Founder, CEO and Chief Engineer of SpaceX\n",
    "CEO and product architect of Tesla, Inc.\n",
    "Founder of The Boring Company and X.com (now part of PayPal)\n",
    "Co-founder of Neuralink, OpenAI, and Zip2\n",
    "Spouse(s)   \n",
    "Justine Wilson\n",
    "​\n",
    "​(m. 2000; div. 2008)​\n",
    "Talulah Riley\n",
    "​\n",
    "​(m. 2010; div. 2012)​\n",
    "​\n",
    "​(m. 2013; div. 2016)\n",
    "'''\n",
    "\n",
    "\n"
   ]
  },
  {
   "cell_type": "code",
   "execution_count": 2,
   "metadata": {},
   "outputs": [
    {
     "name": "stdout",
     "output_type": "stream",
     "text": [
      "Name: Elon Reeve Musk\n",
      "Age: 50\n",
      "Date of Birth: June 28, 1971\n",
      "Address: Pretoria, Transvaal, South Africa\n",
      "Job Titles:\n",
      "- Founder, CEO and Chief Engineer of SpaceX\n",
      "- CEO and product architect of Tesla, Inc.\n",
      "- Founder of The Boring Company and X.com (now part of PayPal)\n",
      "- Co-founder of Neuralink, OpenAI, and Zip2\n"
     ]
    }
   ],
   "source": [
    "# Extract name\n",
    "name_match = re.search(r'Born\\s+(.*)', text)\n",
    "name = name_match.group(1).strip() if name_match else 'N/A'\n",
    "\n",
    "# Extract age\n",
    "age_match = re.search(r'\\(age (\\d+)\\)', text)\n",
    "age = age_match.group(1).strip() if age_match else 'N/A'\n",
    "\n",
    "# Extract date of birth\n",
    "dob_match = re.search(r'Born.*?\\n(.*)\\s\\(age', text)\n",
    "dob = dob_match.group(1).strip() if dob_match else 'N/A'\n",
    "\n",
    "# Extract address\n",
    "address_match = re.search(r'Pretoria, Transvaal, South Africa', text)\n",
    "address = 'Pretoria, Transvaal, South Africa' if address_match else 'N/A'\n",
    "\n",
    "# Extract job titles while excluding spouse details\n",
    "job_titles = []\n",
    "titles_section = re.search(r'Title\\s+(.*)', text, re.DOTALL)\n",
    "if titles_section:\n",
    "    titles_lines = titles_section.group(1).strip().split('\\n')\n",
    "    for line in titles_lines:\n",
    "        if 'Founder' in line or 'CEO' in line or 'Chief Engineer' in line or 'product architect' in line or 'Co-founder' in line:\n",
    "            job_titles.append(line.strip())\n",
    "\n",
    "print(f'Name: {name}')\n",
    "print(f'Age: {age}')\n",
    "print(f'Date of Birth: {dob}')\n",
    "print(f'Address: {address}')\n",
    "print('Job Titles:')\n",
    "for title in job_titles:\n",
    "    print(f'- {title}')"
   ]
  }
 ],
 "metadata": {
  "kernelspec": {
   "display_name": "Python 3",
   "language": "python",
   "name": "python3"
  },
  "language_info": {
   "codemirror_mode": {
    "name": "ipython",
    "version": 3
   },
   "file_extension": ".py",
   "mimetype": "text/x-python",
   "name": "python",
   "nbconvert_exporter": "python",
   "pygments_lexer": "ipython3",
   "version": "3.13.0"
  }
 },
 "nbformat": 4,
 "nbformat_minor": 2
}
